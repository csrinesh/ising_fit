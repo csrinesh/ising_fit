{
 "cells": [
  {
   "cell_type": "markdown",
   "id": "273d3839",
   "metadata": {},
   "source": [
    "# function demo"
   ]
  },
  {
   "cell_type": "code",
   "execution_count": 1,
   "id": "661f7576",
   "metadata": {},
   "outputs": [],
   "source": [
    "import sys\n",
    "# Just append the root folder path on ur local computer\n",
    "sys.path.append(\"/Users/kiathaolim93/ising_fit\")\n",
    "from Scripts.functions import ising_plot\n",
    "import pandas as pd"
   ]
  },
  {
   "cell_type": "code",
   "execution_count": 2,
   "id": "5bb0b3cb",
   "metadata": {},
   "outputs": [],
   "source": [
    "# a = ising_plot(\"../bopd_cleaned_sav_file.csv\", image_name=\"bopd.png\")\n",
    "\n",
    "# # sample of how to slice the R object in python\n",
    "# print(a.rx2(\"q\")) # in r => a$q, in python: a.rx2(\"q\")"
   ]
  },
  {
   "cell_type": "markdown",
   "id": "3c2097eb",
   "metadata": {},
   "source": [
    "## just a few more parameters to disable image saving/ display"
   ]
  },
  {
   "cell_type": "code",
   "execution_count": 3,
   "id": "6705f8d9",
   "metadata": {},
   "outputs": [],
   "source": [
    "# a = ising_plot(\"../bopd_cleaned_sav_file.csv\", image_name=\"bopd.png\", save=False, display_image=False)\n",
    "# print(a)"
   ]
  },
  {
   "cell_type": "markdown",
   "id": "0921fda7",
   "metadata": {},
   "source": [
    "## data frame e.g."
   ]
  },
  {
   "cell_type": "code",
   "execution_count": null,
   "id": "651f5f54",
   "metadata": {},
   "outputs": [],
   "source": [
    "from rpy2.robjects import pandas2ri\n",
    "\n",
    "pandas2ri.py2rpy(m)"
   ]
  },
  {
   "cell_type": "code",
   "execution_count": 4,
   "id": "fc6a2402",
   "metadata": {},
   "outputs": [
    {
     "name": "stderr",
     "output_type": "stream",
     "text": [
      "/usr/local/lib/python3.9/site-packages/rpy2/robjects/pandas2ri.py:59: UserWarning: Error while trying to convert the column \"person_id\". Fall back to string conversion. The error is: Conversion 'py2rpy' not defined for objects of type '<class 'pandas.core.series.Series'>'\n",
      "  warnings.warn('Error while trying to convert '\n"
     ]
    },
    {
     "ename": "AttributeError",
     "evalue": "'int' object has no attribute 'encode'",
     "output_type": "error",
     "traceback": [
      "\u001b[0;31m---------------------------------------------------------------------------\u001b[0m",
      "\u001b[0;31mNotImplementedError\u001b[0m                       Traceback (most recent call last)",
      "File \u001b[0;32m/usr/local/lib/python3.9/site-packages/rpy2/robjects/pandas2ri.py:57\u001b[0m, in \u001b[0;36mpy2rpy_pandasdataframe\u001b[0;34m(obj)\u001b[0m\n\u001b[1;32m     56\u001b[0m \u001b[38;5;28;01mtry\u001b[39;00m:\n\u001b[0;32m---> 57\u001b[0m     od[name] \u001b[38;5;241m=\u001b[39m \u001b[43mconversion\u001b[49m\u001b[38;5;241;43m.\u001b[39;49m\u001b[43mpy2rpy\u001b[49m\u001b[43m(\u001b[49m\u001b[43mvalues\u001b[49m\u001b[43m)\u001b[49m\n\u001b[1;32m     58\u001b[0m \u001b[38;5;28;01mexcept\u001b[39;00m \u001b[38;5;167;01mException\u001b[39;00m \u001b[38;5;28;01mas\u001b[39;00m e:\n",
      "File \u001b[0;32m/usr/local/Cellar/python@3.9/3.9.10/Frameworks/Python.framework/Versions/3.9/lib/python3.9/functools.py:888\u001b[0m, in \u001b[0;36msingledispatch.<locals>.wrapper\u001b[0;34m(*args, **kw)\u001b[0m\n\u001b[1;32m    885\u001b[0m     \u001b[38;5;28;01mraise\u001b[39;00m \u001b[38;5;167;01mTypeError\u001b[39;00m(\u001b[38;5;124mf\u001b[39m\u001b[38;5;124m'\u001b[39m\u001b[38;5;132;01m{\u001b[39;00mfuncname\u001b[38;5;132;01m}\u001b[39;00m\u001b[38;5;124m requires at least \u001b[39m\u001b[38;5;124m'\u001b[39m\n\u001b[1;32m    886\u001b[0m                     \u001b[38;5;124m'\u001b[39m\u001b[38;5;124m1 positional argument\u001b[39m\u001b[38;5;124m'\u001b[39m)\n\u001b[0;32m--> 888\u001b[0m \u001b[38;5;28;01mreturn\u001b[39;00m \u001b[43mdispatch\u001b[49m\u001b[43m(\u001b[49m\u001b[43margs\u001b[49m\u001b[43m[\u001b[49m\u001b[38;5;241;43m0\u001b[39;49m\u001b[43m]\u001b[49m\u001b[38;5;241;43m.\u001b[39;49m\u001b[38;5;18;43m__class__\u001b[39;49m\u001b[43m)\u001b[49m\u001b[43m(\u001b[49m\u001b[38;5;241;43m*\u001b[39;49m\u001b[43margs\u001b[49m\u001b[43m,\u001b[49m\u001b[43m \u001b[49m\u001b[38;5;241;43m*\u001b[39;49m\u001b[38;5;241;43m*\u001b[39;49m\u001b[43mkw\u001b[49m\u001b[43m)\u001b[49m\n",
      "File \u001b[0;32m/usr/local/lib/python3.9/site-packages/rpy2/robjects/conversion.py:188\u001b[0m, in \u001b[0;36m_py2rpy\u001b[0;34m(obj)\u001b[0m\n\u001b[1;32m    187\u001b[0m     \u001b[38;5;28;01mreturn\u001b[39;00m obj\n\u001b[0;32m--> 188\u001b[0m \u001b[38;5;28;01mraise\u001b[39;00m \u001b[38;5;167;01mNotImplementedError\u001b[39;00m(\n\u001b[1;32m    189\u001b[0m     \u001b[38;5;124m\"\u001b[39m\u001b[38;5;124mConversion \u001b[39m\u001b[38;5;124m'\u001b[39m\u001b[38;5;124mpy2rpy\u001b[39m\u001b[38;5;124m'\u001b[39m\u001b[38;5;124m not defined for objects of type \u001b[39m\u001b[38;5;124m'\u001b[39m\u001b[38;5;132;01m%s\u001b[39;00m\u001b[38;5;124m'\u001b[39m\u001b[38;5;124m\"\u001b[39m \u001b[38;5;241m%\u001b[39m\n\u001b[1;32m    190\u001b[0m     \u001b[38;5;28mstr\u001b[39m(\u001b[38;5;28mtype\u001b[39m(obj))\n\u001b[1;32m    191\u001b[0m )\n",
      "\u001b[0;31mNotImplementedError\u001b[0m: Conversion 'py2rpy' not defined for objects of type '<class 'pandas.core.series.Series'>'",
      "\nDuring handling of the above exception, another exception occurred:\n",
      "\u001b[0;31mTypeError\u001b[0m                                 Traceback (most recent call last)",
      "File \u001b[0;32m/usr/local/lib/python3.9/site-packages/rpy2/rinterface_lib/sexp.py:610\u001b[0m, in \u001b[0;36mSexpVector.from_object\u001b[0;34m(cls, obj)\u001b[0m\n\u001b[1;32m    609\u001b[0m \u001b[38;5;28;01mtry\u001b[39;00m:\n\u001b[0;32m--> 610\u001b[0m     mv \u001b[38;5;241m=\u001b[39m \u001b[38;5;28;43mmemoryview\u001b[39;49m\u001b[43m(\u001b[49m\u001b[43mobj\u001b[49m\u001b[43m)\u001b[49m\n\u001b[1;32m    611\u001b[0m     res \u001b[38;5;241m=\u001b[39m \u001b[38;5;28mcls\u001b[39m\u001b[38;5;241m.\u001b[39mfrom_memoryview(mv)\n",
      "\u001b[0;31mTypeError\u001b[0m: memoryview: a bytes-like object is required, not 'Series'",
      "\nDuring handling of the above exception, another exception occurred:\n",
      "\u001b[0;31mAttributeError\u001b[0m                            Traceback (most recent call last)",
      "Input \u001b[0;32mIn [4]\u001b[0m, in \u001b[0;36m<module>\u001b[0;34m\u001b[0m\n\u001b[1;32m      1\u001b[0m my_df \u001b[38;5;241m=\u001b[39m pd\u001b[38;5;241m.\u001b[39mread_csv(\u001b[38;5;124m\"\u001b[39m\u001b[38;5;124m../bopd_cleaned_sav_file.csv\u001b[39m\u001b[38;5;124m\"\u001b[39m)\n\u001b[0;32m----> 2\u001b[0m a \u001b[38;5;241m=\u001b[39m \u001b[43mising_plot\u001b[49m\u001b[43m(\u001b[49m\u001b[43mdata\u001b[49m\u001b[38;5;241;43m=\u001b[39;49m\u001b[43mmy_df\u001b[49m\u001b[43m,\u001b[49m\u001b[43m \u001b[49m\u001b[43mimage_name\u001b[49m\u001b[38;5;241;43m=\u001b[39;49m\u001b[38;5;124;43m\"\u001b[39;49m\u001b[38;5;124;43mbopd.png\u001b[39;49m\u001b[38;5;124;43m\"\u001b[39;49m\u001b[43m)\u001b[49m\n",
      "File \u001b[0;32m~/ising_fit/Scripts/functions.py:105\u001b[0m, in \u001b[0;36mising_plot\u001b[0;34m(path, data, layout, cut, image_name, display_image, save)\u001b[0m\n\u001b[1;32m     98\u001b[0m \u001b[38;5;66;03m# data and path are not to be used simultaneously\u001b[39;00m\n\u001b[1;32m     99\u001b[0m \u001b[38;5;28;01mif\u001b[39;00m data \u001b[38;5;129;01mis\u001b[39;00m \u001b[38;5;129;01mnot\u001b[39;00m \u001b[38;5;28;01mNone\u001b[39;00m:\n\u001b[1;32m    100\u001b[0m     \u001b[38;5;66;03m# pandas2ri.activate()          # automatic conversion of numpy objects into rpy2 objects\u001b[39;00m\n\u001b[1;32m    101\u001b[0m     \u001b[38;5;66;03m# X = data.values               # matrix Conversion\u001b[39;00m\n\u001b[1;32m    102\u001b[0m     \u001b[38;5;66;03m# X_r_format = ro.r.matrix(X)   # Calling R's matrix()\u001b[39;00m\n\u001b[1;32m    103\u001b[0m     \u001b[38;5;66;03m# ro.r.assign(\"X\", X_r_format)  # equivalent to X <- as.matrix(X)\u001b[39;00m\n\u001b[1;32m    104\u001b[0m     \u001b[38;5;66;03m# convert pandas dataframe to R dataframe\u001b[39;00m\n\u001b[0;32m--> 105\u001b[0m     data_r \u001b[38;5;241m=\u001b[39m \u001b[43mpandas2ri\u001b[49m\u001b[38;5;241;43m.\u001b[39;49m\u001b[43mpy2rpy\u001b[49m\u001b[43m(\u001b[49m\u001b[43mdata\u001b[49m\u001b[43m)\u001b[49m\n\u001b[1;32m    107\u001b[0m \u001b[38;5;28;01mif\u001b[39;00m path \u001b[38;5;129;01mis\u001b[39;00m \u001b[38;5;129;01mnot\u001b[39;00m \u001b[38;5;28;01mNone\u001b[39;00m:\n\u001b[1;32m    108\u001b[0m     data_r \u001b[38;5;241m=\u001b[39m ro\u001b[38;5;241m.\u001b[39mDataFrame\u001b[38;5;241m.\u001b[39mfrom_csvfile(path)\n",
      "File \u001b[0;32m/usr/local/Cellar/python@3.9/3.9.10/Frameworks/Python.framework/Versions/3.9/lib/python3.9/functools.py:888\u001b[0m, in \u001b[0;36msingledispatch.<locals>.wrapper\u001b[0;34m(*args, **kw)\u001b[0m\n\u001b[1;32m    884\u001b[0m \u001b[38;5;28;01mif\u001b[39;00m \u001b[38;5;129;01mnot\u001b[39;00m args:\n\u001b[1;32m    885\u001b[0m     \u001b[38;5;28;01mraise\u001b[39;00m \u001b[38;5;167;01mTypeError\u001b[39;00m(\u001b[38;5;124mf\u001b[39m\u001b[38;5;124m'\u001b[39m\u001b[38;5;132;01m{\u001b[39;00mfuncname\u001b[38;5;132;01m}\u001b[39;00m\u001b[38;5;124m requires at least \u001b[39m\u001b[38;5;124m'\u001b[39m\n\u001b[1;32m    886\u001b[0m                     \u001b[38;5;124m'\u001b[39m\u001b[38;5;124m1 positional argument\u001b[39m\u001b[38;5;124m'\u001b[39m)\n\u001b[0;32m--> 888\u001b[0m \u001b[38;5;28;01mreturn\u001b[39;00m \u001b[43mdispatch\u001b[49m\u001b[43m(\u001b[49m\u001b[43margs\u001b[49m\u001b[43m[\u001b[49m\u001b[38;5;241;43m0\u001b[39;49m\u001b[43m]\u001b[49m\u001b[38;5;241;43m.\u001b[39;49m\u001b[38;5;18;43m__class__\u001b[39;49m\u001b[43m)\u001b[49m\u001b[43m(\u001b[49m\u001b[38;5;241;43m*\u001b[39;49m\u001b[43margs\u001b[49m\u001b[43m,\u001b[49m\u001b[43m \u001b[49m\u001b[38;5;241;43m*\u001b[39;49m\u001b[38;5;241;43m*\u001b[39;49m\u001b[43mkw\u001b[49m\u001b[43m)\u001b[49m\n",
      "File \u001b[0;32m/usr/local/lib/python3.9/site-packages/rpy2/robjects/pandas2ri.py:63\u001b[0m, in \u001b[0;36mpy2rpy_pandasdataframe\u001b[0;34m(obj)\u001b[0m\n\u001b[1;32m     58\u001b[0m     \u001b[38;5;28;01mexcept\u001b[39;00m \u001b[38;5;167;01mException\u001b[39;00m \u001b[38;5;28;01mas\u001b[39;00m e:\n\u001b[1;32m     59\u001b[0m         warnings\u001b[38;5;241m.\u001b[39mwarn(\u001b[38;5;124m'\u001b[39m\u001b[38;5;124mError while trying to convert \u001b[39m\u001b[38;5;124m'\u001b[39m\n\u001b[1;32m     60\u001b[0m                       \u001b[38;5;124m'\u001b[39m\u001b[38;5;124mthe column \u001b[39m\u001b[38;5;124m\"\u001b[39m\u001b[38;5;132;01m%s\u001b[39;00m\u001b[38;5;124m\"\u001b[39m\u001b[38;5;124m. Fall back to string conversion. \u001b[39m\u001b[38;5;124m'\u001b[39m\n\u001b[1;32m     61\u001b[0m                       \u001b[38;5;124m'\u001b[39m\u001b[38;5;124mThe error is: \u001b[39m\u001b[38;5;132;01m%s\u001b[39;00m\u001b[38;5;124m'\u001b[39m\n\u001b[1;32m     62\u001b[0m                       \u001b[38;5;241m%\u001b[39m (name, \u001b[38;5;28mstr\u001b[39m(e)))\n\u001b[0;32m---> 63\u001b[0m         od[name] \u001b[38;5;241m=\u001b[39m \u001b[43mStrVector\u001b[49m\u001b[43m(\u001b[49m\u001b[43mvalues\u001b[49m\u001b[43m)\u001b[49m\n\u001b[1;32m     65\u001b[0m \u001b[38;5;28;01mreturn\u001b[39;00m DataFrame(od)\n",
      "File \u001b[0;32m/usr/local/lib/python3.9/site-packages/rpy2/robjects/vectors.py:385\u001b[0m, in \u001b[0;36mStrVector.__init__\u001b[0;34m(self, obj)\u001b[0m\n\u001b[1;32m    384\u001b[0m \u001b[38;5;28;01mdef\u001b[39;00m \u001b[38;5;21m__init__\u001b[39m(\u001b[38;5;28mself\u001b[39m, obj):\n\u001b[0;32m--> 385\u001b[0m     \u001b[38;5;28;43msuper\u001b[39;49m\u001b[43m(\u001b[49m\u001b[43m)\u001b[49m\u001b[38;5;241;43m.\u001b[39;49m\u001b[38;5;21;43m__init__\u001b[39;49m\u001b[43m(\u001b[49m\u001b[43mobj\u001b[49m\u001b[43m)\u001b[49m\n\u001b[1;32m    386\u001b[0m     \u001b[38;5;28mself\u001b[39m\u001b[38;5;241m.\u001b[39m_add_rops()\n",
      "File \u001b[0;32m/usr/local/lib/python3.9/site-packages/rpy2/rinterface_lib/sexp.py:523\u001b[0m, in \u001b[0;36mSexpVector.__init__\u001b[0;34m(self, obj)\u001b[0m\n\u001b[1;32m    521\u001b[0m     \u001b[38;5;28msuper\u001b[39m()\u001b[38;5;241m.\u001b[39m\u001b[38;5;21m__init__\u001b[39m(obj)\n\u001b[1;32m    522\u001b[0m \u001b[38;5;28;01melif\u001b[39;00m \u001b[38;5;28misinstance\u001b[39m(obj, collections\u001b[38;5;241m.\u001b[39mabc\u001b[38;5;241m.\u001b[39mSized):\n\u001b[0;32m--> 523\u001b[0m     \u001b[38;5;28msuper\u001b[39m()\u001b[38;5;241m.\u001b[39m\u001b[38;5;21m__init__\u001b[39m(\u001b[38;5;28;43mself\u001b[39;49m\u001b[38;5;241;43m.\u001b[39;49m\u001b[43mfrom_object\u001b[49m\u001b[43m(\u001b[49m\u001b[43mobj\u001b[49m\u001b[43m)\u001b[49m\u001b[38;5;241m.\u001b[39m__sexp__)\n\u001b[1;32m    524\u001b[0m \u001b[38;5;28;01melse\u001b[39;00m:\n\u001b[1;32m    525\u001b[0m     \u001b[38;5;28;01mraise\u001b[39;00m \u001b[38;5;167;01mTypeError\u001b[39;00m(\u001b[38;5;124m'\u001b[39m\u001b[38;5;124mThe constructor must be called \u001b[39m\u001b[38;5;124m'\u001b[39m\n\u001b[1;32m    526\u001b[0m                     \u001b[38;5;124m'\u001b[39m\u001b[38;5;124mwith an instance of \u001b[39m\u001b[38;5;124m'\u001b[39m\n\u001b[1;32m    527\u001b[0m                     \u001b[38;5;124m'\u001b[39m\u001b[38;5;124mrpy2.rinterface.Sexp \u001b[39m\u001b[38;5;124m'\u001b[39m\n\u001b[1;32m    528\u001b[0m                     \u001b[38;5;124m'\u001b[39m\u001b[38;5;124mor an instance of \u001b[39m\u001b[38;5;124m'\u001b[39m\n\u001b[1;32m    529\u001b[0m                     \u001b[38;5;124m'\u001b[39m\u001b[38;5;124mrpy2.rinterface._rinterface.SexpCapsule\u001b[39m\u001b[38;5;124m'\u001b[39m)\n",
      "File \u001b[0;32m/usr/local/lib/python3.9/site-packages/rpy2/rinterface_lib/sexp.py:614\u001b[0m, in \u001b[0;36mSexpVector.from_object\u001b[0;34m(cls, obj)\u001b[0m\n\u001b[1;32m    612\u001b[0m \u001b[38;5;28;01mexcept\u001b[39;00m (\u001b[38;5;167;01mTypeError\u001b[39;00m, \u001b[38;5;167;01mValueError\u001b[39;00m):\n\u001b[1;32m    613\u001b[0m     \u001b[38;5;28;01mtry\u001b[39;00m:\n\u001b[0;32m--> 614\u001b[0m         res \u001b[38;5;241m=\u001b[39m \u001b[38;5;28;43mcls\u001b[39;49m\u001b[38;5;241;43m.\u001b[39;49m\u001b[43mfrom_iterable\u001b[49m\u001b[43m(\u001b[49m\u001b[43mobj\u001b[49m\u001b[43m)\u001b[49m\n\u001b[1;32m    615\u001b[0m     \u001b[38;5;28;01mexcept\u001b[39;00m \u001b[38;5;167;01mValueError\u001b[39;00m:\n\u001b[1;32m    616\u001b[0m         msg \u001b[38;5;241m=\u001b[39m (\u001b[38;5;124m'\u001b[39m\u001b[38;5;124mThe class methods from_memoryview() and \u001b[39m\u001b[38;5;124m'\u001b[39m\n\u001b[1;32m    617\u001b[0m                \u001b[38;5;124m'\u001b[39m\u001b[38;5;124mfrom_iterable() both failed to make a \u001b[39m\u001b[38;5;132;01m{}\u001b[39;00m\u001b[38;5;124m \u001b[39m\u001b[38;5;124m'\u001b[39m\n\u001b[1;32m    618\u001b[0m                \u001b[38;5;124m'\u001b[39m\u001b[38;5;124mfrom an object of class \u001b[39m\u001b[38;5;132;01m{}\u001b[39;00m\u001b[38;5;124m'\u001b[39m\n\u001b[1;32m    619\u001b[0m                \u001b[38;5;241m.\u001b[39mformat(\u001b[38;5;28mcls\u001b[39m, \u001b[38;5;28mtype\u001b[39m(obj)))\n",
      "File \u001b[0;32m/usr/local/lib/python3.9/site-packages/rpy2/rinterface_lib/conversion.py:45\u001b[0m, in \u001b[0;36m_cdata_res_to_rinterface.<locals>._\u001b[0;34m(*args, **kwargs)\u001b[0m\n\u001b[1;32m     44\u001b[0m \u001b[38;5;28;01mdef\u001b[39;00m \u001b[38;5;21m_\u001b[39m(\u001b[38;5;241m*\u001b[39margs, \u001b[38;5;241m*\u001b[39m\u001b[38;5;241m*\u001b[39mkwargs):\n\u001b[0;32m---> 45\u001b[0m     cdata \u001b[38;5;241m=\u001b[39m \u001b[43mfunction\u001b[49m\u001b[43m(\u001b[49m\u001b[38;5;241;43m*\u001b[39;49m\u001b[43margs\u001b[49m\u001b[43m,\u001b[49m\u001b[43m \u001b[49m\u001b[38;5;241;43m*\u001b[39;49m\u001b[38;5;241;43m*\u001b[39;49m\u001b[43mkwargs\u001b[49m\u001b[43m)\u001b[49m\n\u001b[1;32m     46\u001b[0m     \u001b[38;5;66;03m# TODO: test cdata is of the expected CType\u001b[39;00m\n\u001b[1;32m     47\u001b[0m     \u001b[38;5;28;01mreturn\u001b[39;00m _cdata_to_rinterface(cdata)\n",
      "File \u001b[0;32m/usr/local/lib/python3.9/site-packages/rpy2/rinterface_lib/sexp.py:552\u001b[0m, in \u001b[0;36mSexpVector.from_iterable\u001b[0;34m(cls, iterable, populate_func, set_elt, cast_value)\u001b[0m\n\u001b[1;32m    547\u001b[0m \u001b[38;5;28;01mwith\u001b[39;00m memorymanagement\u001b[38;5;241m.\u001b[39mrmemory() \u001b[38;5;28;01mas\u001b[39;00m rmemory:\n\u001b[1;32m    548\u001b[0m     r_vector \u001b[38;5;241m=\u001b[39m rmemory\u001b[38;5;241m.\u001b[39mprotect(\n\u001b[1;32m    549\u001b[0m         openrlib\u001b[38;5;241m.\u001b[39mrlib\u001b[38;5;241m.\u001b[39mRf_allocVector(\n\u001b[1;32m    550\u001b[0m             \u001b[38;5;28mcls\u001b[39m\u001b[38;5;241m.\u001b[39m_R_TYPE, n)\n\u001b[1;32m    551\u001b[0m     )\n\u001b[0;32m--> 552\u001b[0m     \u001b[43mpopulate_func\u001b[49m\u001b[43m(\u001b[49m\u001b[43miterable\u001b[49m\u001b[43m,\u001b[49m\u001b[43m \u001b[49m\u001b[43mr_vector\u001b[49m\u001b[43m,\u001b[49m\u001b[43m \u001b[49m\u001b[43mset_elt\u001b[49m\u001b[43m,\u001b[49m\u001b[43m \u001b[49m\u001b[43mcast_value\u001b[49m\u001b[43m)\u001b[49m\n\u001b[1;32m    553\u001b[0m \u001b[38;5;28;01mreturn\u001b[39;00m r_vector\n",
      "File \u001b[0;32m/usr/local/lib/python3.9/site-packages/rpy2/rinterface_lib/sexp.py:474\u001b[0m, in \u001b[0;36m_populate_r_vector\u001b[0;34m(iterable, r_vector, set_elt, cast_value)\u001b[0m\n\u001b[1;32m    472\u001b[0m \u001b[38;5;28;01mdef\u001b[39;00m \u001b[38;5;21m_populate_r_vector\u001b[39m(iterable, r_vector, set_elt, cast_value):\n\u001b[1;32m    473\u001b[0m     \u001b[38;5;28;01mfor\u001b[39;00m i, v \u001b[38;5;129;01min\u001b[39;00m \u001b[38;5;28menumerate\u001b[39m(iterable):\n\u001b[0;32m--> 474\u001b[0m         set_elt(r_vector, i, \u001b[43mcast_value\u001b[49m\u001b[43m(\u001b[49m\u001b[43mv\u001b[49m\u001b[43m)\u001b[49m)\n",
      "File \u001b[0;32m/usr/local/lib/python3.9/site-packages/rpy2/rinterface_lib/sexp.py:677\u001b[0m, in \u001b[0;36m_as_charsxp_cdata\u001b[0;34m(x)\u001b[0m\n\u001b[1;32m    675\u001b[0m     \u001b[38;5;28;01mreturn\u001b[39;00m x\u001b[38;5;241m.\u001b[39m__sexp__\u001b[38;5;241m.\u001b[39m_cdata\n\u001b[1;32m    676\u001b[0m \u001b[38;5;28;01melse\u001b[39;00m:\n\u001b[0;32m--> 677\u001b[0m     \u001b[38;5;28;01mreturn\u001b[39;00m \u001b[43mconversion\u001b[49m\u001b[38;5;241;43m.\u001b[39;49m\u001b[43m_str_to_charsxp\u001b[49m\u001b[43m(\u001b[49m\u001b[43mx\u001b[49m\u001b[43m)\u001b[49m\n",
      "File \u001b[0;32m/usr/local/lib/python3.9/site-packages/rpy2/rinterface_lib/conversion.py:142\u001b[0m, in \u001b[0;36m_str_to_charsxp\u001b[0;34m(val)\u001b[0m\n\u001b[1;32m    140\u001b[0m     s \u001b[38;5;241m=\u001b[39m rlib\u001b[38;5;241m.\u001b[39mR_NaString\n\u001b[1;32m    141\u001b[0m \u001b[38;5;28;01melse\u001b[39;00m:\n\u001b[0;32m--> 142\u001b[0m     cchar \u001b[38;5;241m=\u001b[39m \u001b[43m_str_to_cchar\u001b[49m\u001b[43m(\u001b[49m\u001b[43mval\u001b[49m\u001b[43m,\u001b[49m\u001b[43m \u001b[49m\u001b[43mencoding\u001b[49m\u001b[38;5;241;43m=\u001b[39;49m\u001b[38;5;124;43m'\u001b[39;49m\u001b[38;5;124;43mutf-8\u001b[39;49m\u001b[38;5;124;43m'\u001b[39;49m\u001b[43m)\u001b[49m\n\u001b[1;32m    143\u001b[0m     s \u001b[38;5;241m=\u001b[39m rlib\u001b[38;5;241m.\u001b[39mRf_mkCharCE(cchar, openrlib\u001b[38;5;241m.\u001b[39mrlib\u001b[38;5;241m.\u001b[39mCE_UTF8)\n\u001b[1;32m    144\u001b[0m \u001b[38;5;28;01mreturn\u001b[39;00m s\n",
      "File \u001b[0;32m/usr/local/lib/python3.9/site-packages/rpy2/rinterface_lib/conversion.py:121\u001b[0m, in \u001b[0;36m_str_to_cchar\u001b[0;34m(s, encoding)\u001b[0m\n\u001b[1;32m    119\u001b[0m \u001b[38;5;28;01mdef\u001b[39;00m \u001b[38;5;21m_str_to_cchar\u001b[39m(s: \u001b[38;5;28mstr\u001b[39m, encoding: \u001b[38;5;28mstr\u001b[39m \u001b[38;5;241m=\u001b[39m \u001b[38;5;124m'\u001b[39m\u001b[38;5;124mutf-8\u001b[39m\u001b[38;5;124m'\u001b[39m):\n\u001b[1;32m    120\u001b[0m     \u001b[38;5;66;03m# TODO: use isString and installTrChar\u001b[39;00m\n\u001b[0;32m--> 121\u001b[0m     b \u001b[38;5;241m=\u001b[39m \u001b[43ms\u001b[49m\u001b[38;5;241;43m.\u001b[39;49m\u001b[43mencode\u001b[49m(encoding)\n\u001b[1;32m    122\u001b[0m     \u001b[38;5;28;01mreturn\u001b[39;00m ffi\u001b[38;5;241m.\u001b[39mnew(\u001b[38;5;124m'\u001b[39m\u001b[38;5;124mchar[]\u001b[39m\u001b[38;5;124m'\u001b[39m, b)\n",
      "\u001b[0;31mAttributeError\u001b[0m: 'int' object has no attribute 'encode'"
     ]
    }
   ],
   "source": [
    "my_df = pd.read_csv(\"../bopd_cleaned_sav_file.csv\")\n",
    "a = ising_plot(data=my_df, image_name=\"bopd.png\")"
   ]
  }
 ],
 "metadata": {
  "kernelspec": {
   "display_name": "Python 3 (ipykernel)",
   "language": "python",
   "name": "python3"
  },
  "language_info": {
   "codemirror_mode": {
    "name": "ipython",
    "version": 3
   },
   "file_extension": ".py",
   "mimetype": "text/x-python",
   "name": "python",
   "nbconvert_exporter": "python",
   "pygments_lexer": "ipython3",
   "version": "3.9.10"
  }
 },
 "nbformat": 4,
 "nbformat_minor": 5
}
