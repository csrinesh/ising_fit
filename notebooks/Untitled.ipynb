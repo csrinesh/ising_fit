{
 "cells": [
  {
   "cell_type": "code",
   "execution_count": 1,
   "id": "04be3c99",
   "metadata": {},
   "outputs": [],
   "source": [
    "import numpy as np\n",
    "import scipy.sparse as sps\n",
    "\n",
    "import matplotlib.pyplot as plt\n",
    "from pyglmnet import GLM, simulate_glm"
   ]
  },
  {
   "cell_type": "code",
   "execution_count": 47,
   "id": "a2438c33",
   "metadata": {},
   "outputs": [
    {
     "data": {
      "text/plain": [
       "<\n",
       "Distribution | binomial\n",
       "alpha | 0.50\n",
       "max_iter | 1000.00\n",
       "lambda: 0.10\n",
       ">"
      ]
     },
     "execution_count": 47,
     "metadata": {},
     "output_type": "execute_result"
    }
   ],
   "source": [
    "n_samples, n_features = 1000, 100\n",
    "distr = 'poisson'\n",
    "\n",
    "# sample a sparse model\n",
    "np.random.seed(42)\n",
    "beta0 = np.random.rand()\n",
    "beta = sps.random(1, n_features, density=0.2).toarray()[0]\n",
    "\n",
    "# simulate data\n",
    "Xtrain = np.random.binomial(1.0, 0.5, [n_samples, n_features])\n",
    "ytrain = np.random.binomial(1.0, 0.6, [n_samples,])\n",
    "Xtest = np.random.binomial(1.0, 0.3, [n_samples, n_features])\n",
    "ytest = np.random.binomial(1.0, 0.2, [n_samples,])\n",
    "\n",
    "# # create an instance of the GLM class\n",
    "glm = GLM(distr='binomial')\n",
    "\n",
    "# fit the model on the training data\n",
    "glm.fit(Xtrain, ytrain)"
   ]
  },
  {
   "cell_type": "code",
   "execution_count": 51,
   "id": "017cd6d5",
   "metadata": {},
   "outputs": [
    {
     "data": {
      "text/plain": [
       "array([ 0.,  0.,  0., -0., -0.,  0.,  0.,  0., -0., -0.,  0.,  0., -0.,\n",
       "       -0., -0., -0., -0.,  0., -0., -0.,  0., -0.,  0., -0.,  0., -0.,\n",
       "        0., -0., -0.,  0., -0.,  0.,  0.,  0.,  0.,  0.,  0., -0.,  0.,\n",
       "       -0., -0.,  0., -0., -0.,  0.,  0.,  0.,  0.,  0., -0., -0., -0.,\n",
       "        0., -0., -0.,  0.,  0., -0.,  0.,  0., -0.,  0.,  0., -0.,  0.,\n",
       "       -0.,  0., -0., -0.,  0.,  0.,  0.,  0.,  0.,  0., -0., -0., -0.,\n",
       "       -0., -0., -0.,  0., -0.,  0., -0., -0.,  0.,  0., -0., -0.,  0.,\n",
       "       -0., -0., -0., -0.,  0.,  0., -0., -0., -0.])"
      ]
     },
     "execution_count": 51,
     "metadata": {},
     "output_type": "execute_result"
    }
   ],
   "source": [
    "glm.beta_"
   ]
  },
  {
   "cell_type": "code",
   "execution_count": 33,
   "id": "d07a01ef",
   "metadata": {},
   "outputs": [
    {
     "data": {
      "text/plain": [
       "array([[1, 1, 0, ..., 1, 1, 0],\n",
       "       [1, 0, 0, ..., 1, 0, 0],\n",
       "       [0, 0, 0, ..., 1, 1, 1],\n",
       "       ...,\n",
       "       [1, 0, 0, ..., 0, 0, 0],\n",
       "       [1, 0, 1, ..., 1, 0, 1],\n",
       "       [1, 1, 0, ..., 1, 1, 0]])"
      ]
     },
     "execution_count": 33,
     "metadata": {},
     "output_type": "execute_result"
    }
   ],
   "source": [
    "Xtrain\n"
   ]
  }
 ],
 "metadata": {
  "kernelspec": {
   "display_name": "Python 3 (ipykernel)",
   "language": "python",
   "name": "python3"
  },
  "language_info": {
   "codemirror_mode": {
    "name": "ipython",
    "version": 3
   },
   "file_extension": ".py",
   "mimetype": "text/x-python",
   "name": "python",
   "nbconvert_exporter": "python",
   "pygments_lexer": "ipython3",
   "version": "3.9.10"
  }
 },
 "nbformat": 4,
 "nbformat_minor": 5
}
